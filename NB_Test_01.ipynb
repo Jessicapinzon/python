{
  "nbformat": 4,
  "nbformat_minor": 0,
  "metadata": {
    "colab": {
      "provenance": [],
      "toc_visible": true,
      "authorship_tag": "ABX9TyOr9ixGZxhYdOiE+eGI2LdB",
      "include_colab_link": true
    },
    "kernelspec": {
      "name": "python3",
      "display_name": "Python 3"
    },
    "language_info": {
      "name": "python"
    }
  },
  "cells": [
    {
      "cell_type": "markdown",
      "metadata": {
        "id": "view-in-github",
        "colab_type": "text"
      },
      "source": [
        "<a href=\"https://colab.research.google.com/github/Jessicapinzon/python/blob/main/NB_Test_01.ipynb\" target=\"_parent\"><img src=\"https://colab.research.google.com/assets/colab-badge.svg\" alt=\"Open In Colab\"/></a>"
      ]
    },
    {
      "cell_type": "markdown",
      "source": [
        "# Ejercicios\n"
      ],
      "metadata": {
        "id": "C6p-PSjLXa5g"
      }
    },
    {
      "cell_type": "markdown",
      "source": [
        "## Ejercicio 01."
      ],
      "metadata": {
        "id": "5-GS59kRZlSS"
      }
    },
    {
      "cell_type": "code",
      "source": [
        "print (\"Hola mundo\")\n",
        "print (\"Estoy aprendiendo python\")"
      ],
      "metadata": {
        "id": "mhGWqzQOZkaz",
        "outputId": "ce2ee4e4-bc19-4cde-ca79-2a2118fd0cf9",
        "colab": {
          "base_uri": "https://localhost:8080/"
        }
      },
      "execution_count": 2,
      "outputs": [
        {
          "output_type": "stream",
          "name": "stdout",
          "text": [
            "Hola mundo\n",
            "Estoy aprendiendo python\n"
          ]
        }
      ]
    },
    {
      "cell_type": "markdown",
      "source": [
        "## Ejercicio 02.\n",
        "\n",
        "N este ejercicio estoy hacoend:"
      ],
      "metadata": {
        "id": "JdNE_dCvXqQM"
      }
    },
    {
      "cell_type": "code",
      "execution_count": null,
      "metadata": {
        "colab": {
          "base_uri": "https://localhost:8080/"
        },
        "id": "b4XWGIweW_2W",
        "outputId": "208d6a67-22e4-48b8-a7ff-c2955b2c2ceb"
      },
      "outputs": [
        {
          "output_type": "stream",
          "name": "stdout",
          "text": [
            "Esto es una suma\n",
            "6\n"
          ]
        }
      ],
      "source": [
        "print(\"Esto es una suma\")\n",
        "numero_uno = 2\n",
        "numero_dos = 4\n",
        "resultado = numero_uno + numero_dos\n",
        "print(resultado)"
      ]
    },
    {
      "cell_type": "code",
      "source": [],
      "metadata": {
        "id": "_KAEtAzHXtl0"
      },
      "execution_count": null,
      "outputs": []
    },
    {
      "cell_type": "code",
      "source": [],
      "metadata": {
        "id": "Z3QxnkJ0XtH1"
      },
      "execution_count": null,
      "outputs": []
    }
  ]
}