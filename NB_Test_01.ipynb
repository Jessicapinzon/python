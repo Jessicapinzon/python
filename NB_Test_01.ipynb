{
  "nbformat": 4,
  "nbformat_minor": 0,
  "metadata": {
    "colab": {
      "provenance": [],
      "authorship_tag": "ABX9TyP2Uo2FWcz88eqymxvl+Q7r",
      "include_colab_link": true
    },
    "kernelspec": {
      "name": "python3",
      "display_name": "Python 3"
    },
    "language_info": {
      "name": "python"
    }
  },
  "cells": [
    {
      "cell_type": "markdown",
      "metadata": {
        "id": "view-in-github",
        "colab_type": "text"
      },
      "source": [
        "<a href=\"https://colab.research.google.com/github/Jessicapinzon/python/blob/main/NB_Test_01.ipynb\" target=\"_parent\"><img src=\"https://colab.research.google.com/assets/colab-badge.svg\" alt=\"Open In Colab\"/></a>"
      ]
    },
    {
      "cell_type": "markdown",
      "source": [
        "# Ejercicios\n"
      ],
      "metadata": {
        "id": "C6p-PSjLXa5g"
      }
    },
    {
      "cell_type": "markdown",
      "source": [
        "N este ejercicio estoy hacoend:"
      ],
      "metadata": {
        "id": "JdNE_dCvXqQM"
      }
    },
    {
      "cell_type": "code",
      "execution_count": 1,
      "metadata": {
        "colab": {
          "base_uri": "https://localhost:8080/"
        },
        "id": "b4XWGIweW_2W",
        "outputId": "208d6a67-22e4-48b8-a7ff-c2955b2c2ceb"
      },
      "outputs": [
        {
          "output_type": "stream",
          "name": "stdout",
          "text": [
            "Esto es una suma\n",
            "6\n"
          ]
        }
      ],
      "source": [
        "print(\"Esto es una suma\")\n",
        "numero_uno = 2\n",
        "numero_dos = 4\n",
        "resultado = numero_uno + numero_dos\n",
        "print(resultado)"
      ]
    },
    {
      "cell_type": "code",
      "source": [],
      "metadata": {
        "id": "_KAEtAzHXtl0"
      },
      "execution_count": null,
      "outputs": []
    },
    {
      "cell_type": "code",
      "source": [],
      "metadata": {
        "id": "Z3QxnkJ0XtH1"
      },
      "execution_count": null,
      "outputs": []
    }
  ]
}